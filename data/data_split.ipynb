{
 "cells": [
  {
   "cell_type": "markdown",
   "source": [
    "# Generate Stratified Train-Test Split with Balanced Age and Gender\n",
    "See this paper [On the Stratification of Multi-label Data](https://link.springer.com/chapter/10.1007/978-3-642-23808-6_10) for principle way of performing stratified split with multi-labels.\n",
    "## Prerequisite\n",
    "- scikit-multilearn\n",
    "\n",
    "Install using the following command:\n",
    "<code>pip install skmultilearn</code>"
   ],
   "metadata": {
    "collapsed": false
   }
  },
  {
   "cell_type": "code",
   "execution_count": 1,
   "metadata": {
    "collapsed": true
   },
   "outputs": [],
   "source": [
    "import pandas as pd\n",
    "import numpy as np\n",
    "import os\n",
    "\n",
    "from skmultilearn.model_selection import IterativeStratification"
   ]
  },
  {
   "cell_type": "code",
   "execution_count": 2,
   "outputs": [
    {
     "data": {
      "text/plain": "  adressfname  age  gender  educ  dx  mmse\n0    adrso002   70       0   NaN   0  26.0\n1    adrso003   72       0   NaN   0  30.0\n2    adrso004   74       0   NaN   0  30.0\n3    adrso005   67       0   NaN   0  27.0\n4    adrso006   65       0   NaN   0  28.0",
      "text/html": "<div>\n<style scoped>\n    .dataframe tbody tr th:only-of-type {\n        vertical-align: middle;\n    }\n\n    .dataframe tbody tr th {\n        vertical-align: top;\n    }\n\n    .dataframe thead th {\n        text-align: right;\n    }\n</style>\n<table border=\"1\" class=\"dataframe\">\n  <thead>\n    <tr style=\"text-align: right;\">\n      <th></th>\n      <th>adressfname</th>\n      <th>age</th>\n      <th>gender</th>\n      <th>educ</th>\n      <th>dx</th>\n      <th>mmse</th>\n    </tr>\n  </thead>\n  <tbody>\n    <tr>\n      <th>0</th>\n      <td>adrso002</td>\n      <td>70</td>\n      <td>0</td>\n      <td>NaN</td>\n      <td>0</td>\n      <td>26.0</td>\n    </tr>\n    <tr>\n      <th>1</th>\n      <td>adrso003</td>\n      <td>72</td>\n      <td>0</td>\n      <td>NaN</td>\n      <td>0</td>\n      <td>30.0</td>\n    </tr>\n    <tr>\n      <th>2</th>\n      <td>adrso004</td>\n      <td>74</td>\n      <td>0</td>\n      <td>NaN</td>\n      <td>0</td>\n      <td>30.0</td>\n    </tr>\n    <tr>\n      <th>3</th>\n      <td>adrso005</td>\n      <td>67</td>\n      <td>0</td>\n      <td>NaN</td>\n      <td>0</td>\n      <td>27.0</td>\n    </tr>\n    <tr>\n      <th>4</th>\n      <td>adrso006</td>\n      <td>65</td>\n      <td>0</td>\n      <td>NaN</td>\n      <td>0</td>\n      <td>28.0</td>\n    </tr>\n  </tbody>\n</table>\n</div>"
     },
     "execution_count": 2,
     "metadata": {},
     "output_type": "execute_result"
    }
   ],
   "source": [
    "# read dataset, convert string values to int\n",
    "data_file = \"training-groundtruth.csv\"\n",
    "data = pd.read_csv(data_file).replace({\"female\": 0, \"male\": 1, \"Control\": 0, \"ProbableAD\": 1})\n",
    "data.head()"
   ],
   "metadata": {
    "collapsed": false,
    "pycharm": {
     "name": "#%%\n"
    }
   }
  },
  {
   "cell_type": "code",
   "execution_count": 3,
   "outputs": [],
   "source": [
    "def discretize_continuous_label(feature, discretize_bins):\n",
    "    feature_bins = np.linspace(start=feature.min(), stop=feature.max(), num=discretize_bins)\n",
    "    feature = np.digitize(feature, feature_bins, right=True)\n",
    "    return feature\n",
    "\n",
    "\n",
    "def split_data(\n",
    "        df: pd.DataFrame,\n",
    "        n_folds: int = 5,\n",
    "        objective: str = \"class\",\n",
    "        discretize_bins: int = 5,\n",
    "        path: str = '/'\n",
    "):\n",
    "    \"\"\"\n",
    "    Split data into cross-validation sets.\n",
    "    :param df: Dataframe containing the data.\n",
    "    :param n_folds: Number of folds.\n",
    "    :param objective: Objective of the outcome. Either \"class\" or \"reg\", which means classification or regression.\n",
    "    :param discretize_bins: Number of bins to discretize continuous features. We don't want the number to be large because the limited number of data, probably 4 or 5 is enough.\n",
    "    :param path: Path to save the data.\n",
    "    :return: None\n",
    "    \"\"\"\n",
    "    if objective == \"class\":\n",
    "        output = df.dx.values\n",
    "    elif objective == \"reg\":\n",
    "        # there is one subject with nan mmse score, we will drop it.\n",
    "        df = df[data.mmse.notna()]\n",
    "        df = df.reset_index(drop=True)\n",
    "        output = discretize_continuous_label(df.mmse, discretize_bins)\n",
    "    else:\n",
    "        raise ValueError(\"Not a valid value for 'objective'.\")\n",
    "\n",
    "    X = df.values\n",
    "    columns = df.columns\n",
    "\n",
    "    age = discretize_continuous_label(df.age, discretize_bins)\n",
    "    gender = df.gender.values\n",
    "\n",
    "    stratified_labels = np.stack([age, gender, output], axis=1)\n",
    "\n",
    "    k_fold = IterativeStratification(n_splits=n_folds, order=1)\n",
    "    for i, (train_idx, test_idx) in enumerate(k_fold.split(X, stratified_labels)):\n",
    "        x_train = X[train_idx]\n",
    "        x_test = X[test_idx]\n",
    "        df_train = pd.DataFrame(data=x_train, columns=columns)\n",
    "        df_test = pd.DataFrame(data=x_test, columns=columns)\n",
    "\n",
    "        folder_path = f\"{path}/split/{objective}/fold_{i}\"\n",
    "        if not os.path.exists(folder_path):\n",
    "            os.makedirs(folder_path)\n",
    "        df_train.to_csv(f\"{folder_path}/train.csv\", index=False)\n",
    "        df_test.to_csv(f\"{folder_path}/test.csv\", index=False)\n"
   ],
   "metadata": {
    "collapsed": false,
    "pycharm": {
     "name": "#%%\n"
    }
   }
  },
  {
   "cell_type": "code",
   "execution_count": 4,
   "outputs": [],
   "source": [
    "# where do you want to save the split files\n",
    "dir_ = os.getcwd()\n",
    "\n",
    "# split the dataset by the classification and regression labels separately, but always balanced for age and gender\n",
    "split_data(data, n_folds=5, objective='class', path=dir_)\n",
    "split_data(data, n_folds=5, objective='reg', path=dir_)"
   ],
   "metadata": {
    "collapsed": false,
    "pycharm": {
     "name": "#%%\n"
    }
   }
  },
  {
   "cell_type": "code",
   "execution_count": null,
   "outputs": [],
   "source": [],
   "metadata": {
    "collapsed": false,
    "pycharm": {
     "name": "#%%\n"
    }
   }
  }
 ],
 "metadata": {
  "kernelspec": {
   "display_name": "Python 3",
   "language": "python",
   "name": "python3"
  },
  "language_info": {
   "codemirror_mode": {
    "name": "ipython",
    "version": 2
   },
   "file_extension": ".py",
   "mimetype": "text/x-python",
   "name": "python",
   "nbconvert_exporter": "python",
   "pygments_lexer": "ipython2",
   "version": "2.7.6"
  }
 },
 "nbformat": 4,
 "nbformat_minor": 0
}